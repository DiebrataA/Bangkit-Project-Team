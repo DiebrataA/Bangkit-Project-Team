{
 "cells": [
  {
   "cell_type": "markdown",
   "metadata": {
    "id": "P4VgSBjRuE8n"
   },
   "source": [
    "# **Import & Install Library**"
   ]
  },
  {
   "cell_type": "code",
   "execution_count": 1,
   "metadata": {},
   "outputs": [
    {
     "name": "stdout",
     "output_type": "stream",
     "text": [
      "Tensor Flow Version: 2.4.1\n",
      "Keras Version: 2.4.0\n",
      "\n",
      "Python 3.7.10 (default, Feb 26 2021, 13:06:18) [MSC v.1916 64 bit (AMD64)]\n",
      "Pandas 1.2.4\n",
      "Scikit-Learn 0.24.1\n",
      "GPU is available\n",
      "Num GPUs Available:  1\n",
      "1 Physical GPUs, 1 Logical GPUs\n"
     ]
    }
   ],
   "source": [
    "import sys\n",
    "\n",
    "import tensorflow\n",
    "import pandas as pd\n",
    "import sklearn as sk\n",
    "import tensorflow as tf\n",
    "\n",
    "check_gpu = len(tf.config.list_physical_devices('GPU'))>0\n",
    "\n",
    "print(f\"Tensor Flow Version: {tf.__version__}\")\n",
    "print(f\"Keras Version: {tensorflow.keras.__version__}\")\n",
    "print()\n",
    "print(f\"Python {sys.version}\")\n",
    "print(f\"Pandas {pd.__version__}\")\n",
    "print(f\"Scikit-Learn {sk.__version__}\")\n",
    "print(\"GPU is\", \"available\" if check_gpu \\\n",
    "      else \"NOT AVAILABLE\")\n",
    "\n",
    "print(\"Num GPUs Available: \", len(tf.config.list_physical_devices('GPU')))\n",
    "gpus = tf.config.list_physical_devices('GPU')\n",
    "if gpus:\n",
    "  # Restrict TensorFlow to only allocate 1GB of memory on the first GPU\n",
    "  try:\n",
    "    tf.config.experimental.set_virtual_device_configuration(\n",
    "        gpus[0],\n",
    "        [tf.config.experimental.VirtualDeviceConfiguration(memory_limit=1024)])\n",
    "    logical_gpus = tf.config.experimental.list_logical_devices('GPU')\n",
    "    print(len(gpus), \"Physical GPUs,\", len(logical_gpus), \"Logical GPUs\")\n",
    "  except RuntimeError as e:\n",
    "    # Virtual devices must be set before GPUs have been initialized\n",
    "    print(e)"
   ]
  },
  {
   "cell_type": "code",
   "execution_count": 2,
   "metadata": {
    "id": "dUPWh-XhbjvV"
   },
   "outputs": [],
   "source": [
    "#Import library preprocessing\n",
    "#from google.colab import files\n",
    "import random as rd\n",
    "import zipfile, os # Library untuk mendownload zipfile\n",
    "from tqdm import tqdm # Sebagai pemanis visual saat mengimport gambar ke dalam array list\n",
    "import numpy as np  # Library untuk mengubah gambar menjadi array\n",
    "import tensorflow as tf # Library Tensorflow\n",
    "from tensorflow.keras.optimizers import RMSprop # Mengimport optimizer untuk model\n",
    "from tensorflow.keras.preprocessing.image import ImageDataGenerator # Library untuk Augmentasi gambar\n",
    "from tensorflow.keras import regularizers # Library untuk mencegah overfitting pada model\n",
    "from tensorflow.keras.callbacks import LearningRateScheduler, ModelCheckpoint # Mengimport learningrate dan model checkpoint\n",
    "from sklearn.preprocessing import LabelEncoder # Untuk mengubah index menjadi string label\n",
    "from tensorflow.keras.preprocessing import image\n",
    "from tensorflow.keras.utils import to_categorical # Untuk melabeli gambar\n",
    "import cv2 # Mengimport gambar\n",
    "\n",
    "#Import library visualisasi\n",
    "import matplotlib.image as mpimg  # Library untuk visualisai gambar dengan plot\n",
    "import matplotlib.pyplot as plt # Library untuk visualisai plot\n",
    "%matplotlib inline\n",
    "import seaborn as sns # Library untuk visualisai plot lebih bagus\n",
    "\n",
    "from sklearn.metrics import confusion_matrix # Untuk evaluasi model"
   ]
  },
  {
   "cell_type": "code",
   "execution_count": 3,
   "metadata": {
    "colab": {
     "base_uri": "https://localhost:8080/"
    },
    "id": "8c-3IWPaTVVn",
    "outputId": "1a2ae633-f887-4916-9241-699cd895aecc"
   },
   "outputs": [],
   "source": [
    "# Install library split_folders\n",
    "#!pip install split_folders #buat colab\n",
    "import splitfolders"
   ]
  },
  {
   "cell_type": "markdown",
   "metadata": {
    "id": "CC_An0ILEjjt"
   },
   "source": [
    "# **Import Dataset**"
   ]
  },
  {
   "cell_type": "markdown",
   "metadata": {
    "id": "CCLvAWE2FQzW"
   },
   "source": [
    "Mendownload Dataset Keretakan yang diambil dari Google Images dan telah dimasukkan ke dalam Dropbox"
   ]
  },
  {
   "cell_type": "code",
   "execution_count": 4,
   "metadata": {
    "colab": {
     "base_uri": "https://localhost:8080/"
    },
    "id": "URHtc2vTTiec",
    "outputId": "10993ff8-b2f5-417b-a51d-e8c6bffa55b2"
   },
   "outputs": [],
   "source": [
    "# Mendownload dataset cupang menggunakan wget\n",
    "\n",
    "# !wget --no-check-certificate \\\n",
    "#   https://dl.dropbox.com/s/dgs42o0l8jpuq34/Bangunan_Retak.zip?dl=2 \\\n",
    "#   -O /tmp/bangunan-retak.zip"
   ]
  },
  {
   "cell_type": "code",
   "execution_count": 12,
   "metadata": {
    "id": "Bs5rFYoxqzn1"
   },
   "outputs": [],
   "source": [
    "# Mengekstrak folder zip yang telah terdownload\n",
    "#local_zip = '/tmp/bangunan-retak.zip' #colab\n",
    "local_zip = 'bangunan_retak.zip'\n",
    "zip_ref = zipfile.ZipFile(local_zip, 'r')\n",
    "#zip_ref.extractall('/tmp') # colab\n",
    "zip_ref.extractall()\n",
    "zip_ref.close()\n",
    " \n",
    "#base_dir = '/tmp/bangunan-retak' #colab"
   ]
  },
  {
   "cell_type": "markdown",
   "metadata": {
    "id": "_F34qpXJ3YGZ"
   },
   "source": [
    "Folder yang telah terekstrak akan terlihat seperti ini:\n",
    "![image.png](data:image/png;base64,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)"
   ]
  },
  {
   "cell_type": "markdown",
   "metadata": {
    "id": "1_e9mG33uTZA"
   },
   "source": [
    "# **Data Preprocessing**"
   ]
  },
  {
   "cell_type": "code",
   "execution_count": null,
   "metadata": {
    "colab": {
     "base_uri": "https://localhost:8080/"
    },
    "id": "Q6AxiAazPYcy",
    "outputId": "2ffa269c-d327-4894-96e5-c1d9795144b5"
   },
   "outputs": [
    {
     "name": "stderr",
     "output_type": "stream",
     "text": [
      "Copying files: 32862 files [06:53, 43.22 files/s]  "
     ]
    }
   ],
   "source": [
    "# Memakai library split_folders untuk membagi data train dan validasi\n",
    "# import splitfolders\n",
    "\n",
    "# Membagi data train dan validasi dengan perbandingan 80% : 20%\n",
    "# splitfolders.ratio('/tmp/Bangunan Retak', output=\"dataset\", seed=43, ratio=(.8, .2)) \n",
    "\n",
    "# di uncomment trus sekali run aja\n",
    "splitfolders.ratio('Bangunan Retak', output=\"datasets2\", seed=43, ratio=(.9, .1))\n",
    "# splitfolders.fixed('Bangunan Retak', output=\"datasets\", seed=43, fixed=(1000)) # Sekali run aja"
   ]
  },
  {
   "cell_type": "code",
   "execution_count": null,
   "metadata": {
    "id": "VwlOMt8NVMt1"
   },
   "outputs": [],
   "source": [
    "# Menentukan path data train dan validasi\n",
    "# path = \"/content/dataset/\" # colab\n",
    "path = \"datasets2/\"\n",
    "train_dir = path + \"train\" \n",
    "validation_dir = path + \"val\""
   ]
  },
  {
   "cell_type": "code",
   "execution_count": null,
   "metadata": {
    "colab": {
     "base_uri": "https://localhost:8080/"
    },
    "id": "Uuigt6NgaQ1i",
    "outputId": "056415a3-1fa4-4e6b-9ed8-fa78be2e5344"
   },
   "outputs": [],
   "source": [
    "print(train_dir)\n",
    "print(validation_dir)"
   ]
  },
  {
   "cell_type": "markdown",
   "metadata": {
    "id": "qAupv-bL3uSc"
   },
   "source": [
    "Splitting akan terlihat seperti gambar di berikut ini:\n",
    "![image.png](data:image/png;base64,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)"
   ]
  },
  {
   "cell_type": "markdown",
   "metadata": {
    "id": "ToN7IHTlw8ww"
   },
   "source": [
    "## Memasukkan Data Validasi ke dalam Array List"
   ]
  },
  {
   "cell_type": "code",
   "execution_count": null,
   "metadata": {
    "colab": {
     "base_uri": "https://localhost:8080/"
    },
    "id": "gD-b0znx4dmW",
    "outputId": "04520172-e264-4ada-96b4-488cae3da4f0"
   },
   "outputs": [],
   "source": [
    "# print(os.listdir('/tmp/Bangunan Retak')) # colab\n",
    "print(os.listdir('Bangunan Retak'))"
   ]
  },
  {
   "cell_type": "code",
   "execution_count": null,
   "metadata": {
    "id": "-Mu60O3psZ_z"
   },
   "outputs": [],
   "source": [
    "X = []\n",
    "Z = []\n",
    "# cracked = \"/content/dataset/val/Cracked\" # colab\n",
    "# non_cracked = \"/content/dataset/val/Non Cracked\" # colab\n",
    "cracked = \"datasets2/val/Cracked\"\n",
    "non_cracked = \"datasets2/val/Non Cracked\""
   ]
  },
  {
   "cell_type": "markdown",
   "metadata": {
    "id": "jYKSTWQqxtw-"
   },
   "source": [
    "Mendefinisikan Fungsi untuk memasukkan image ke dalam list array"
   ]
  },
  {
   "cell_type": "code",
   "execution_count": null,
   "metadata": {
    "id": "0Sb0G_Se3_iq"
   },
   "outputs": [],
   "source": [
    "def assign_label(img, gbk): #gbk gambar ikan\n",
    "    return gbk\n",
    "\n",
    "def val_data(gbk,DIR): \n",
    "    for img in tqdm(os.listdir(DIR)):\n",
    "        label= assign_label(img, gbk)\n",
    "        path= os.path.join(DIR,img)\n",
    "        img= cv2.imread(path,cv2.IMREAD_COLOR)\n",
    "        img= cv2.cvtColor(img, cv2.COLOR_BGR2RGB) # Warna menjadi RGB\n",
    "        img= cv2.resize(img, (150,150)) # ukuran gambar menjadi 150 x 150 pixel\n",
    "        \n",
    "        X.append(np.array(img))\n",
    "        Z.append(str(label))\n",
    "        "
   ]
  },
  {
   "cell_type": "markdown",
   "metadata": {
    "id": "2ObFeVcy338Y"
   },
   "source": [
    "Menggabungkan Cracked dan Non Cracked ke dalam 1 list"
   ]
  },
  {
   "cell_type": "code",
   "execution_count": null,
   "metadata": {
    "colab": {
     "base_uri": "https://localhost:8080/"
    },
    "id": "dxFrwKAL5s-S",
    "outputId": "9d5252e9-86e7-4c20-b662-c59199f35a26"
   },
   "outputs": [],
   "source": [
    "val_data('Cracked', cracked)\n",
    "print(len(X))"
   ]
  },
  {
   "cell_type": "code",
   "execution_count": null,
   "metadata": {
    "colab": {
     "base_uri": "https://localhost:8080/"
    },
    "id": "VEwW3rrU5z67",
    "outputId": "0b23bd50-8f57-4ee4-e093-02fec4ff6cf5"
   },
   "outputs": [],
   "source": [
    "val_data('Non Cracked', non_cracked)\n",
    "print(len(X))"
   ]
  },
  {
   "cell_type": "code",
   "execution_count": null,
   "metadata": {
    "colab": {
     "base_uri": "https://localhost:8080/",
     "height": 1000
    },
    "id": "blK64IIsUHMT",
    "outputId": "aa2f2370-bb0c-4505-b4c4-71534dea431d"
   },
   "outputs": [],
   "source": [
    "# Menampilkan gambar validasi dengan acak\n",
    "fig,ax=plt.subplots(5,5)\n",
    "fig.set_size_inches(16,16)\n",
    "for i in range(5):\n",
    "    for j in range (5):\n",
    "        gamb=rd.randint(0,len(Z))\n",
    "        ax[i,j].imshow(X[gamb])\n",
    "        ax[i,j].set_title('Lapisan: '+Z[gamb])\n",
    "        \n",
    "plt.tight_layout()"
   ]
  },
  {
   "cell_type": "markdown",
   "metadata": {
    "id": "3GUOmQdzC1kV"
   },
   "source": [
    "## Augmentasi"
   ]
  },
  {
   "cell_type": "markdown",
   "metadata": {
    "id": "ywQsiJ764VAC"
   },
   "source": [
    "Melakukan Augmentasi gambar untuk menciptakan data/gambar baru dari data yang telah ada"
   ]
  },
  {
   "cell_type": "code",
   "execution_count": null,
   "metadata": {
    "id": "M0LVlG45bmDs"
   },
   "outputs": [],
   "source": [
    "train_datagen = ImageDataGenerator(\n",
    "                    rescale=1./255,\n",
    "                    rotation_range=20,\n",
    "                    horizontal_flip=True,\n",
    "                    shear_range = 0.2,\n",
    "                    zoom_range = 0.1, # mengubah zoom image \n",
    "                    width_shift_range=0.1,  # mengubah image secara horizontal\n",
    "                    height_shift_range=0.1, # mengubah image secara vertikal\n",
    "                    #validation_split=0.15,featurewise_center=False,  # set input mean to 0 over the dataset\n",
    "        samplewise_center=False,  # set each sample mean to 0\n",
    "        featurewise_std_normalization=False,  # divide inputs by std of the dataset\n",
    "        samplewise_std_normalization=False,  # divide each input by its std\n",
    "        zca_whitening=False)                \n",
    " \n",
    "test_datagen = ImageDataGenerator(\n",
    "                    rescale=1./255#,\n",
    "                    #rotation_range=20,\n",
    "                    #horizontal_flip=True\n",
    "                    )\n",
    "                   "
   ]
  },
  {
   "cell_type": "code",
   "execution_count": null,
   "metadata": {
    "colab": {
     "base_uri": "https://localhost:8080/"
    },
    "id": "khFpA3MDbxVT",
    "outputId": "0a8e760d-9038-4997-f8dc-b39e48f7452a"
   },
   "outputs": [],
   "source": [
    "train_generator = train_datagen.flow_from_directory(\n",
    "        train_dir,  # direktori data latih\n",
    "        target_size=(150, 150),  # mengubah resolusi seluruh gambar menjadi 150x150 piksel\n",
    "        batch_size=12,\n",
    "        class_mode='binary') # karena ini merupakan masalah klasifikasi dari 2 kelas maka menggunakan class_mode = 'binary'\n",
    " \n",
    "validation_generator = test_datagen.flow_from_directory(\n",
    "        validation_dir, # direktori data validasi\n",
    "        target_size=(150, 150), # mengubah resolusi seluruh gambar menjadi 150x150 piksel\n",
    "        batch_size=1, \n",
    "        class_mode='binary') # karena ini merupakan masalah klasifikasi dari 2 kelas maka menggunakan class_mode = 'binary'"
   ]
  },
  {
   "cell_type": "markdown",
   "metadata": {
    "id": "krA8pztuxTiB"
   },
   "source": [
    "# **Modelling**"
   ]
  },
  {
   "cell_type": "code",
   "execution_count": null,
   "metadata": {
    "id": "b54SYzlUZqf5"
   },
   "outputs": [],
   "source": [
    "# Fungsi untuk menyimpan model\n",
    "save_direc = os.path.join(os.getcwd(), '/content/sample_data')\n",
    "\n",
    "model_name = 'rusak_ringan_weight.h5'\n",
    "\n",
    "# Create Directory if it doesn't exist\n",
    "if not os.path.isdir(save_direc):\n",
    "    os.makedirs(save_direc)\n",
    "# Join the directory with the model file\n",
    "modelpath = os.path.join(save_direc, model_name)\n",
    "\n",
    "checkpoint = ModelCheckpoint(filepath = modelpath, verbose = 1, save_best_only = True,\n",
    "                             save_weights_only = True, save_freq=1)"
   ]
  },
  {
   "cell_type": "code",
   "execution_count": null,
   "metadata": {
    "id": "2f_TAzyzy1Hk"
   },
   "outputs": [],
   "source": [
    "# Inisialisasi class untuk menghentikan proses training apabila akurasi validasi telah diatas 93%\n",
    "class myCallBack(tf.keras.callbacks.Callback):\n",
    "    def on_epoch_end(self, epoch, logs={}):\n",
    "        if(logs.get('val_accuracy') >= 0.82):\n",
    "            print(\"\\nAkurasi telah mencapai >82%!\")\n",
    "            self.model.stop_training = True\n",
    "myCallBack = myCallBack()"
   ]
  },
  {
   "cell_type": "code",
   "execution_count": null,
   "metadata": {
    "colab": {
     "base_uri": "https://localhost:8080/"
    },
    "id": "YncawEIBJZId",
    "outputId": "34daf600-081c-4835-e339-cfc2794c454d"
   },
   "outputs": [],
   "source": [
    "model = tf.keras.models.Sequential([\n",
    "    tf.keras.layers.Conv2D(32, (5,5), padding='Same', activation='relu',  input_shape=(150, 150, 3)),\n",
    "    tf.keras.layers.Conv2D(32, (5,5), padding='Same', activation='relu'),\n",
    "    tf.keras.layers.MaxPooling2D(2, 2),\n",
    "\n",
    "    tf.keras.layers.Conv2D(64, (5,5), padding='Same', activation='relu'),\n",
    "    #tf.keras.layers.Conv2D(64, (3,3), padding='Same', activation='relu'),\n",
    "    tf.keras.layers.MaxPooling2D(2,2), # mereduksi resolusi gambar\n",
    "    tf.keras.layers.Dropout(0.2), # agar model tidak overfitting\n",
    "\n",
    "    tf.keras.layers.Conv2D(64, (3,3), padding='Same', activation='relu'),\n",
    "    #tf.keras.layers.Conv2D(128, (3,3), padding='Same', activation='relu'),\n",
    "    tf.keras.layers.MaxPooling2D(2,2), # mereduksi resolusi gambar\n",
    "    tf.keras.layers.Dropout(0.3), # agar model tidak overfitting\n",
    "\n",
    "    tf.keras.layers.Conv2D(128, (3,3), padding='Same', activation='relu'),\n",
    "    #tf.keras.layers.Conv2D(256, (3,3), padding='Same', activation='relu'),\n",
    "    tf.keras.layers.MaxPooling2D(2,2), # mereduksi resolusi gambar\n",
    "    tf.keras.layers.Dropout(0.3), # agar model tidak overfitting\n",
    "\n",
    "    tf.keras.layers.Flatten(),  \n",
    "    tf.keras.layers.Dense(128, kernel_regularizer=regularizers.l2(0.001), activation='relu'), # Hidden layer\n",
    "    tf.keras.layers.Dropout(0.5), # agar model tidak overfitting\n",
    "    tf.keras.layers.Dense(1, activation='sigmoid') # 2 label output lalu menggunakan sigmoid karena model adalah klasifikasi kategori\n",
    "])\n",
    "\n",
    "model.compile(loss='binary_crossentropy',\n",
    "              optimizer=tf.optimizers.RMSprop(learning_rate=0.0001), #Menggunakan optimizer rmsprop\n",
    "              metrics=['accuracy'])\n",
    "\n",
    "model.summary()\n"
   ]
  },
  {
   "cell_type": "code",
   "execution_count": null,
   "metadata": {
    "colab": {
     "base_uri": "https://localhost:8080/"
    },
    "id": "ZnkP3vkScYzM",
    "outputId": "e647c5e8-74f0-4000-97d5-dcc3bcdc8bce"
   },
   "outputs": [],
   "source": [
    "hist=model.fit(\n",
    "      train_generator,\n",
    "      steps_per_epoch=35,  # berapa steps yang akan dieksekusi pada setiap epoch\n",
    "      epochs=300, # jumlah maksimal epoch yang akan di eksekusi\n",
    "      validation_data=validation_generator, # menampilkan akurasi pengujian data validasi\n",
    "      callbacks=[myCallBack],#, checkpoint],\n",
    "      batch_size=8, # berapa batch yang akan dieksekusi pada setiap epoch\n",
    "      validation_steps=5,  \n",
    "      verbose=1)\n"
   ]
  },
  {
   "cell_type": "code",
   "execution_count": null,
   "metadata": {
    "colab": {
     "base_uri": "https://localhost:8080/",
     "height": 295
    },
    "id": "Kwl6ILidrQA2",
    "outputId": "f5d4aa8c-33fb-4089-f9d1-369bd4fc18d8"
   },
   "outputs": [],
   "source": [
    "# Menampilkan plot loss dari model\n",
    "plt.plot(hist.history['loss'])\n",
    "plt.plot(hist.history['val_loss'])\n",
    "plt.title('Model Loss')\n",
    "plt.ylabel('Loss')\n",
    "plt.xlabel('Epochs')\n",
    "plt.legend(['train', 'val'])\n",
    "plt.show()"
   ]
  },
  {
   "cell_type": "code",
   "execution_count": null,
   "metadata": {
    "colab": {
     "base_uri": "https://localhost:8080/",
     "height": 295
    },
    "id": "lHZm2-hosRE0",
    "outputId": "073c64e4-320a-4464-ada9-9a16ed69e9cd"
   },
   "outputs": [],
   "source": [
    "# Menampilkan plot akurasi dari model\n",
    "plt.plot(hist.history['accuracy'])\n",
    "plt.plot(hist.history['val_accuracy'])\n",
    "plt.title('Model Accuracy')\n",
    "plt.ylabel('Accuracy')\n",
    "plt.xlabel('Epochs')\n",
    "plt.legend(['train', 'validation'])\n",
    "plt.show()"
   ]
  },
  {
   "cell_type": "markdown",
   "metadata": {
    "id": "dpriis2SP9D3"
   },
   "source": [
    "Model Tensorflow yang sudah di training di-convert menjadi tflite menggunakan TFLiteConverter."
   ]
  },
  {
   "cell_type": "code",
   "execution_count": null,
   "metadata": {
    "colab": {
     "base_uri": "https://localhost:8080/",
     "height": 156
    },
    "id": "vIfkrdFhGUPO",
    "outputId": "2d442f74-5a90-4c07-e4f1-9cd2b3ca56f3"
   },
   "outputs": [],
   "source": [
    "saved_model_dir = 'save/model_tflite/' # Membuat directory untuk menuimpan model\n",
    "tf.saved_model.save(model, saved_model_dir) # Menyimpan model\n",
    "\n",
    "converter = tf.lite.TFLiteConverter.from_saved_model(saved_model_dir) # Konversi model menjadi tflite\n",
    "tflite_model = converter.convert()\n",
    "\n",
    "with open('model.tflite', 'wb') as f:# Membuat model tflite ke dalam directory\n",
    "    f.write(tflite_model)"
   ]
  },
  {
   "cell_type": "markdown",
   "metadata": {
    "id": "JoMDK9YrFMPU"
   },
   "source": [
    "Sehingga model tflite akan terlihat seperti ini:\n",
    "![image.png](data:image/png;base64,iVBORw0KGgoAAAANSUhEUgAAATIAAAEACAYAAAAwdPpjAAAgAElEQVR4Ae2d/68U1fnH+680qak/9AeSJjeGUGgooVC+VCpFKkUsWryt4VuvEi2hUEIBKVRKvQKJKA14wYJE5HubFkhDWiJfKlKLFAGFCCJoQRFU9HzyOvk8m3OH3Z3Zu7O7Mzvvk+yd3ZkzZ855n7Ov+5wzs8/zFackBaSAFMi5Al/Jef1VfSkgBaSAE8g0CKSAFMi9AgJZ7rtQDZACUkAg0xiQAlIg9woIZLnvQjVACkgBgUxjQApIgdwrIJDlvgvVACkgBQQyjQEpIAVyr4BAlvsuVAOkgBQQyDQGpIAUyL0CAlnuu1ANkAJSIFMg+/vf/+6efPLJ2149PT3qKSkgBaRARQUyA7K3337b/eQnP6n4evbZZys2QgekgBQotgKZAdl//vOfihCrBjg7hiWnJAWkQDEVyDzIHn300cSAA4ZKUkAKFE+BTIPMppNszfKqthXIijeA1WIpgAKZBZlBzLopCcwEMlNLWylQLAUyCbIoxKxL4mAmkJlS2kqBYimQOZDNnTvXnThxwnEXM0x8Zj/HK00vBbJQMb2XAsVRIHMgM0gtXry4Vy/w2Y5V2lYD2eeff+5effVVd+HCBV/ujRs33IEDB9zVq1d7XUcfpIAUyJ8ChQHZtWvX3OTJk93WrVt9L507d86NGjXKHTp0KH+9phpLASnQS4HCgKxXq/VBCkiBtlIgsyB75JFHev1Uic+VppS2v9rUsq16TY2RAlKglwKZAVncT5QMVtW20RsEvVqqD1JACrStApkBGQrzo/EVK1Y4FvZreXHO4cOH27aT1DApIAWqK5ApkFWvqo5KASkgBcorIJCV10V7pYAUyJECAlmOOktVlQJSoLwCAll5XbRXCkiBHCkgkOWos1RVKSAFyisgkJXXRXulgBTIkQICWY46S1WVAlKgvAICWXldtFcKSIEcKSCQ5aizVFUpIAXKK1BokP3zn/9006dPd5988kl5dbRXCkiBXCiQKZA1O65lLSD773//6+6++27HttGJeo0ZM8Z98MEHjb6UypcCbaFAZkAW96PxSu6v6+kFgawe9XSuFMiOAnWD7L333kulNbjgqebZIu5YkriWly9fdtOmTXN33HGHu++++1x3d3evqeX58+f98TvvvNN1dHS45557zuFZ9k9/+pP76le/WnrxmVQpvwmCR1qcN3Iu24MHD7ovv/zSH/7444/d8uXLXb9+/fxrzZo17tNPP/Wui8JrAVslKSAFqitQN8ieeeYZd/HixepXSXC0XpABumr+yIDE7Nmz3cKFC71763fffddDy9bIzIPshg0bPLw4Duz27dvnax+dWsblxwPtPffc4/bu3evLYzty5Eh39uxZ/3nJkiVu6dKlDpfb6NfZ2emBycU0tUwwYJRFCgQKpAKyxx9/vG6YNRpkgGjs2LEeJNZ+fPYbyLC8PvzwQw8ZO46Vt2zZMv8xCrIk+QEhQCQBUiy0K1eu+HW2CRMmlOIHcPxvf/ub6+rqcjdv3hTIvGL6IwWSK5AKyLCG6oVZo0GGlTNx4sRewUaia2Ss0zH1ZGpp0zubskZBhsTV8nMndMGCBW7gwIF+unjkyJESJLmulR9uDaqyyJIPYOWUAiiQGsjqhVmrQXbp0iU3fvx419PT4z777DM/OoBYJZDF5acA1sNYR9u4caMbN26ce/jhh/2dyHJQDYejQBaqofdSIF6BwoAsbmrJcWBsjzwAIdbTKoEsLv8777zjjh07VrLCmLYy1QRSQHvYsGG91vS++OKL0o0AgSx+4CqHFAgVSA1kWZ9aRhf7WYyfMmVKaY2Mzzwntm3bNscdxV27dvk7lwYy7niyxgZkWMeKy89UcsSIEd4FN5B6/fXX3dChQz3crC5MY99//32/4L927Vq3atUqd+vWLXfy5El/owBYci0lKSAFqiuQCsjqhRhVbPTUkmvEPX7BYjyWEmtk8+fP99bYvHnzvFXF4j6PY3DMbgBUy49Ft3///tLjF5S7Z8+ektX10UcfeYuPxy/semYN2voaj4ls2bKleg/qqBSQAumskeXh8Qv1tRSQAu2rQN0WWVYeiI17jqx9u1AtkwJSoG6QpSVh3E+UAFXcizKUpIAUKJ4CmQEZ0iuuZfEGoFosBdJQIFMgS6NBKkMKSIHiKSCQFa/P1WIp0HYKCGRt16VqkBQongICWfH6XC2WAm2ngEDWdl2qBkmB4ikgkBWvz9ViKdB2CghkbdelapAUKJ4CAlnx+lwtlgJtp4BA1nZdqgZJgeIpIJC1oM/xckG4N1wCpZkoz7zMplmuypICWVcgUyBrdlzLVnVOFkCGr7Nmxelslc66bnEUyAzI4n403oi4lq3qZoGsVcrruu2qQN0gy4obH/PkWq2j3nrrLXf//ff7uJaDBw92r7zyisN7K4mwbCtXrvReYXF0OGPGDO+IkWNYL5MmTXLPP/+869+/v3eEiBtsQrtZnEwcJ+JokQSo8NSxbt0676gRB4mPPfZYyY12FGQ4YcTpImWQlzKT+HiLcxRZKe5mpTid1TTwDdMfKZBRBeoGWV7iWoZxKAkucvz4cTd8+HB36NAh3zWrV692M2fO9CHhcEWNF1iiIOEZFpANGjTI4Y4aN9i4ouZc4lQCL9xRE7QESF69etUDizUwYIevfqAEnKy8KMjwJMu5uM8GJgTrjVvrMnfZacXpRIRqGmR0/KpaUsArkArI8uDqGngQS/K1117zDQdQBAchSAgWEQDCxbQlFs7x0Q+IzCLDAiJZYBIgwntSuObEtbDgAJ4lgAncLly4UAId1+CaQIu4lpbIQ+i606dP267btlwvzTidcRrcVgHtkAIZUiAVkDGNqhdmjfbZbz73Ozo63Ny5c73vM6wfS9evXy9NLS3WJOABSkCDNvLeElPZcDobBRn52WcJCAI39lGO3bW093ZN2w4YMKDX+VaObYFg2nE6q2lg19VWCmRRgdRAVi/MGg0yE594lDt37nSTJ0/2kYpY5wJyTCWZWhIJnAQo0gQZVhYWYTmQ3Xvvve7o0aNWxUTbOJDFxd0MwcsF4zRIVCllkgItUqAwIANQrGextkRiO2vWLMfCt03vgIOlAwcOpAoy1uQI0hudWrLm1tnZ6W8M2LWZ5tlNCNsX3QKialNLjodWpE2HzYqMgixOg+j19VkKZEmB1ECW9akllhfPTe3evdtDgrUxLCE+s/g/Z84cHwIO4LG2RTDdeiwyzmUNjZsMrLNh7WH1YfnYdNLAuWPHDjdkyBAfA5O4lgCX/OFUNjpooov99cbpjNMgen19lgJZUiAVkNULMQRpxtSSILn2+AWPUaxfv96DhetHH2XgmFlQUeuG/HFrZKyH8TiHPVLxq1/9qgSmKMiwvngUhEdCWCMDotQ1LkXr3N3d3etuJ0Dk+hY3kzpXi9MZLS/UIK4uOi4FWqlAKiBL8sxTXCObAbK4OqR1HFBFF/v7UjYAZdHfbgDYNu5GQF+upXOkQJ4VqBtkWXkgFnAAwyyktECWhbaoDlIgDwrUDbK0Ghn3EyVAFffKSlxLgSytUaFypEAyBTIDMqqruJbJOk25pIAU6K1ApkDWu2r6JAWkgBRIpoBAlkwn5ZICUiDDCghkGe4cVU0KSIFkCghkyXRSLikgBTKsgECW4c5R1aSAFEimQEWQ8ZMevaSBxoDGQNbHAKgTyARs/cPSGMj1GBDINIBzPYCzbimofs2xZgUygUwg0xjI/RgQyDSIcz+IZfU0x+rJss6ZA9nLL7/sfv3rX9/2WrVqlb5wgq7GQJuPAZyPPvroo/7F+6TwzBTIcDJY7Ufhy5cvT9ywpAIon/6bawxkZwwQMtFcVfE+ad9kCmT79u2rCrJqkOMYllxcw/lR+g9/+EP3ta99zX3rW99yzz33nI9UxHlvvvmm9+j6zW9+03396193P/3pT92//vUv72P/5z//uXeSaOXjsPD73/++j3zEPmIA8JlO+MEPfuBoi+XVNjtfFPVFtvsiBFmS77P1Z1uBDJhVA8i///1v96Mf/cg9/fTT7tSpU+4vf/mL+853vuO2b9/uobN48WI3ZcoUHyIOh4Z4dMWnP3n/+Mc/uoceesidOHHC58XPP9d744033N69e92oUaN8eeQl9iWwPHLkiGDW5lMh+yJpmw4gmU4CMyCW26llvRZZHMiIZ3nPPfd4H/0MPKBDdO9//OMf7syZM144AxXHt27d6gFF7EvyYGkRkIS8s2fPdr///e9L75cuXVqCFs4dCdO2bdu20j4N9HQGunSUjuXGQJ8tMqwNvrzVXrVaJI0GGeCivkwdf/GLX7jNmzf76aQJA4AWLVrkj9s8/Xvf+54P6Mu5U6dO9ZYZYANUBNQFfFhqlj/cAkIrW1t9ATUG4sdASxb7Dx8+7O8uYAmFL+46cKzWjms0yKw+AJapItPMkSNHeisLUDGVZGqJ5UZeQGQg4zPndHV1+anogw8+6KeVBjKOWfnaxg9YaSSNyo2BcI2sqYv9UZj1FWI0qtEgA1BM91j/4npsbRHfgBRaUVu2bOkFMqaX48eP99acTSUBIOtotpZmncN+e6+tvrQaA8nGQAiypi/2G8zqgRgd3WiQsb41fPhwHwj39OnTft2LO43r1q3z62UzZszwC40Aj7qwJhZaZMAJoTs6OvzCvg1O7ljeddddvpy33nrLu+vGQuV6lkfbZANZOhVbp5Yv9gOzvkwnw4HbaJBxrT//+c+lxy8A0ooVKzzEOMajFkwZeTQDiHEM0PGohdVz48aN7sc//rGP1mT7WPwnJuV3v/tdv1bGndBNmzb5GwGWR9tif0HV/43t/z4v9jeiY5oBskbUW2U2dpBK3+Lo25LF/rQHmEBWnAGb9thRee0xdsI1sqYu9qc5gOJ+ohTeGa30njLSrJPKao8viPoxH/0Ygqzpi/1pDhJ+NM4T9vPmzavpxTm7d+8WxPQkvcZAjsdAyxf704SZysrHf0/1k/opK2MgU4v9WRFF9dAXVGMgX2NAIMuxGa4vW76+bOqvxvWXQCaQaU1JYyD3Y0Ag0yDO/SCWpdM4Sycv2lYFGQeVpIAUkAJ5UKBiXMs8VF51lAJSQAqggECmcSAFpEDuFRDIct+FaoAUkAICWYbHwAcffOCdVuI7LS4RR2D69Onuk08+ict62/GPP/7YB1658847Xb9+/dy9997rfbeR8caNG94zCFslKZBVBdoaZERNevLJJ2979fT0ZLU/etWrESDj96hjxoxxlG0JJ5I4jTx37pwHIb9zQzcSvtsIroKLb1K58/0B/ZECLVSgbUH29ttv93LBHf2h+bPPPttC2ZNdulkgW7ZsWQlc1MzgX66WAlk5VbSv1Qq0LcgIJhKFVy2fzSKp1EEGGTzMDhs2zN1xxx1u2rRp/rmshQsXOqZp/fv39z7+v/zyS1/MF1984Xbt2lXK//DDD3sHjHaNzz//3K1Zs8ZP7zh35cqV7r777vNuuclDOUR+Cq938eJFf3qSqSVtCgOk7N+/309Hw32AKgQZ09q7777b1yF6PnlJly9f9pGlrM04mqStSlKgWQoIZJHgKSHsgGGlBMiYogGtDz/80L377rsenIMGDfKwunnzZinm5TvvvOOLIfISIemIEfDZZ5+5DRs2uNGjR/tzybBjxw43btw4h8ts1q2IkUl5tkYGeO6//34/BWTNCujZulgSkHGNchZVCC7yhJ9DkJU7n3pSB9pCm3AJzhobrr6VpECzFBDI6gDZpEmT3MmTJ0t9xZeZsHHXr1/3+wx2wINFeL7wWCuWPv30Ux+4BAiVO46lwzWAiR0HhpYuXLjgQ9OxjtUqkNE2LEuAZokI7kxXlaRAsxTIBMjee+8998wzz1R9kaeWVO/UEsssziIjj1lL1C0KkxBkvJ8wYYIPBBy2o7u721tAHMeSOXr0aOkw++waVlY4DeT9gAEDfB2i1y4VEnmTtkXGdaN14jNWnZIUaJYCmQAZjWWt5/HHH79tXYt9tg5Uiyh5AZkttCcBWRR0oR6tBNkTTzzhp5VhffReCjRTgcyAjEZHYdZXiFFW1kBmU8O+Ti2ZunV2dvqwczZAWPy3RfVWgYxYC9wMCP/ZUCe7wWF11VYKNFKBTIGMhhrM6oEY5WQNZNSJ9S1bzGdhfPPmzX7xnxsFpOhiP3ctw8V+jg8ZMsSH3rt165YPVTdz5kz/TFhSkLGmxw0HpsTckCCFi/vRz9HF/uj53OjgBgQ3PVgbvHbtmlu0aFGvtUB/Ef2RAg1UIHMgo63ALPwP35f2ZxFkWCpYZIMHD/aPa7BIzl0+S3GPX4Tnsw7Foxmvv/66Pz0pyLAMFyxY4K/Pg7CkWkBW7nz6igDH9ssAAKxfAlivatsMBTIJsjQa3miQpVHHRpRR6aYA4GOhX0kKtKMCAlkfH79ox8GgNkmBvCrQtiCL+4lS+OBrpfeUoSQFpED2FWhbkCE9PxpfsWKFj5VJ7MukL845fPhw9ntPNZQCUsAr0NYgUx9LASlQDAUEsmL0s1opBdpaAYGsrbtXjZMCxVBAICtGP6uVUqCtFRDI2rp71TgpUAwFBLJi9LNaKQXaWgGBrK27V42TAsVQQCArRj+rlVKgrRUQyNq6e9U4KVAMBQSyYvSzWikF2loBgayG7s17nMxyTY36GyuXR/ukQNYVEMgS9lDcj9DzECezXFMFsnKqaF/eFGh7kNUatKRSB9br3yxJMI7z58/72Jg4KOzo6HBEI8LZIoktn9nPcRwZhs4nX331VR8RHL9jRAY/ePBgyd00brKXL1/u42X269fPh5EjghPOGMlvLz6TCEeH11dideIEUnEqvSz6k2EF2h5kRGcKv/B97Yt6QYarIMqolHARPXnyZB8fEmjh/hoPsPjEJ+3evdt/PnfunPe+unTpUh9KDiCxD/fVe/fu9cBjO3LkSB8smLKWLFniyI/XVrTA979BK2qRhfXAHffx48fd8OHD3aFDhypVXfulQMsVKATI6vX/Ty81GmQAB//3bC1hxVl8SMAzZ86c0vErV654n/2ADBgBPfP9zz4sNPJwjDB0xMC0ROyArq4u77M/CjI8zJL/tdde89mpz7Fjx5wFGbYytJUCWVKgECDDGqoXZo0GGYOCdbhp06b5qaNN92xKevbsWR+4hOAlTDGZhlqkIvOjP3DgQO9//8iRIyXg4d7aygq3FqE8CjLAZVPYuXPnep9u8r+fpa+s6lJOgcKArF6YNRpkly5dcuPHj3c9PT2lGJHRoCBABkuJ9S6gtWbNmhKwgBpw27hxowcegU2wrgDZxIkT3dWrV8v1v7fYCOcG0MJEfXbu3Omnu0xbAamSFMiqAgJZwp5pNMgACbAFPiTARIg1YFZueseaFQF7yc+0j+kf+UhMUZlqAjHqPWzYsF7rc2HcyahFFk5ZKYtp6qxZs0prav4C+iMFMqZAYUCW9aklC/ZYRtu2bXPcZdy1a5e/QwnIgBoh1ph2vv/++x5Y69evdw888ICPI8lUcsSIEd49N5AiRNzQoUM93ADR7NmzS+cyTVy7dq1btWqVIzbm5cuX3dixYz30iHOJ5UU9uLlAWUASYPJZSQpkVYFCgKxeiNF5jbbIuAYL9FhPPF4xf/58b43NmzfPgwsAATMev+CxCKaOZ86c8eMK0O3fv7/0+AVl7Nmzp7SG9tFHH3nrjkcvrGyz/GxNjP12YwEQ2uMX/fv3d0DTrL2sDmTVq9gKFAJkeXj8otjDUK2XAvUp0PYgy8oDsXHPkdXXjTpbChRbgbYHWVrdG/cTJUAV91KczLR6Q+VIgd4KCGS99aj6SXEyq8qjg1KgZQoIZC2TXheWAlIgLQUEsrSUVDlSQAq0TAGBrGXS68JSQAqkpYBAlpaSKkcKSIGWKSCQtUx6XVgKSIG0FBDI0lJS5UgBKdAyBQSylkmvC0sBKZCWAgJZWkqqHCkgBVqmgEDWMul1YSkgBdJSQCBLS8kMlWP+yyo5UwyrihcMfloVdaxoeTg+ZswY7+bH9mkrBbKmgEBWQ4/kJa6lOVZM4kNMIKthAChrZhUQyBJ2TdyPxvMa11IgSzgAlC3TCrQ9yLLixseCiFQaDU8//bQP24aTRBJeYnGeaOHgQmeHxJrcvn17yXEiZT/11FPuwQcfdAQVIZpSOB1kqvnSSy/5GJU4ZcRpIrErSQaydevWeaeOHMcTLZ5j7XhYFvXDaSPOGy1v6O+tWnxNX6D+SIEGKND2IMtLXMujR4/64CP4zCfhkRa/+0AijFuJ+2mO4Y6aLQmQATe8xLIuRhkhfMKYmJz/4osvukceecTD0tbAgBfX4tyZM2e6BQsWeK+wdhz//ySuAQgtviYBUCwiU1hP4BnG1/Qn648UaJAChQBZHlxdAyAC9FogXOJYGkwIlMu6FxAiEf4NeGzZssV/BmSEcLMUhQ/WHS9LLOwTGen06dPeIps0aZI7efKkHfZBeQEh/vrDsuy6xMW0RLxMojRRFuVWiq9p+bWVAo1QoBAg465cvTBrhs/+7u5ux4uAIdTXppVM5wgDZ370LT6lRQsHZPaeQRLCh8+Ut2nTJm+12bkDBgzw4CFv9K4l00rgBpjCsuy9lWFbK6tafM1GDF6VKQVMgcKArF6YNQNkTC+Z8r3xxhvuoYce8lM9OgqgEBWJqRpTNrOMDF5xICMfMTO5YQEUKc9iWdYKMiIqUc9KifLLxdeslF/7pUAaCghkCVVsBsiYXrLA/9vf/tZZ9CSqx/qUrUPx+fr1627q1KklKywOZNHjTCNHjx5dsriSTi2ZnnZ2djpuDFgCXDblrRZf0/JrKwUaoUBhQJaHqSUdzFrXN77xDReuQxF8F4vs4MGD7n//+58Pz0b4tqQW2erVqz2AuJvJq6ury9l00KaLSRf7d+zY4YYMGeJjaBIXk7uU3BygnGrxNRsxeFWmFDAFCgGyeiGGWM2wyLjO8ePH3bhx4xyL6JawenjcghiTxKb8wx/+4B577LHSAn/U4jI42Z1GLCmilgM/Hpt44YUX/GI/17KpZfj4BWWznxQtC+vrlVdeKa23sbjPoyEk6lktvqbPpD9SoAEKFAJk4XNOfdWwWSDra/10nhQosgJtD7KsPBDLzQZgqCQFpED6CrQ9yNKSLO4nSoAq7qW4lmn1hsqRAr0VEMh661H1k+JaVpVHB6VAyxQQyFomvS4sBaRAWgoIZGkpqXKkgBRomQICWcuk14WlgBRISwGBLC0lVY4UkAItU0Aga5n0urAUkAJpKSCQpaWkypECUqBlCghkLZNeF5YCUiAtBQSytJRUOVJACrRMAYGsD9LzhP6JEycqvvpQpE6RAlKgDgUEshrF4+n+uJ8i5TWiElLgGghvGq1O5pUDJ5BxiTqH/tri8ofHs9LesE56X7sCAlmNmq1YsaIiyBYvXuyAGKDLK8yy8sUWyGocmAXPLpDVOACAVSWLjGOkPMNMIKtxQCh7JhQQyGrshiQgo8i+wIxYkxZghPBuODA0N9I3btxwK1eudB0dHd5B4owZM3zsSQKLzJo1q+QtlmvjlBHf+uY2CM+tOGskWAiOEMOISVyTfcSo/NnPfuanlXFTS7OWQmeMeJg9e/ZsyYEjTiDD2Ju0Y9euXaV4mLj0PnPmTEl9YhEQWg7HkZxLW6mXTS1x2lgpnma1qSXn48r7+eef9+XiXHLZsmUOPUmc+8tf/rJivUsV1JtMKyCQ1dg9SUFGsQaznp6e2Ktcu3bNh4PbsGGDI/wb3luHDx9eCg+Hu2pcShMWDnjxZbRwcTt37uy1RkT0JYtb+eabb7qxY8f68igXV9WEb7t06ZIv64EHHnBr1671cQAAHHmTgIxwcXidpT64z8ZKHTRokIfVzZs3faCUUaNG+ZByNB7X3YSg4yYJ9aCdxA3gXBL1AraAFY+21InyDGTV4mnGgYxyKI9yKZ82WtwBzgWeQNbqzT8R+ycQ23HKkAkFBLIau6EayHAR/fLLL/d6ARSbcla7FFbOhAkTfNg38mGh4KufgB5YIwQmIXqSJdxY84UEJOTBesEiIu+SJUv8F9XehzEv+TJjDeFrnzKAGmVYAjBJQBYNWMJ5BEQhMAqJ9liQYIv6hIVpKbQkyx0PQ9LZ8TCOQRhPMw5k1NUip3N96jFlyhQPNs4FyGhFQncCvxCWTyk/CghkNfZVNZDFrZ1VuxRfIIDD1HHu3LmOu6M2/eE8AGFTS4snCSgABhbOE0884bDMgBKgwqIwAFj+cAvE+BJzHudbYl8SkNFWs5Y4NwqTEGQGaazMMAELrsXxaJg59tk1rKyw/ry3ACrRa4fXoI6UQxmWsDyBG/vKtTcJzK0sbbOhgEBWYz80CmRWDaZ8AImo40zFsLKAHFNJppZXrlzxWQGRgYwdnIMlQaRy1quwvAxkHCuX+BK3EmS0KSnIoqAL21MryAAq1q9AFqqY7/cCWY391yiQASime0y5SOWmXsDL0oEDB3qBjOkllgfWnE0lASDraLaWZueyn1TP1NKsJSszChOzoriGAbWvU0ugXC2eZvTaVie25SwypqiaWoYq5f+9QFZjHzYKZFheRP/evXu3v1MJmLBC+MzUb86cOW7+/PneImNqxJpYaJEBJ45zxy+cwnHHkikY5RCHksVu1u24HtPQcLGfCOfUIe2pJRIDD1vMpz2bN2/2FmelxX6m0eFif7V4miHI0IF/CBZOD5DZYj9T9XPnzvmo65xDYqvF/hq/BBnMLpDV2CmNAhnVID6kPX4BkNavX++nlRxjsZopI49JADGOAQb7wpIntDSsWSxiE9iXO4isKxHXkjuAtrhdz+MXSdfIqEsYD5M2sI536tQpq6ZvZ7XHL8LzaQcaWDzNEGR293fr1q2+bOpIXsCIpjx+wdqcrT9ybvTxi7/+9a8lfUoV1JtMKyCQ1dg9jQRZjVVpaHYAgCVXaYG9oRdPsXDaEV3sT7F4FZURBQSyGjuiKCCrUZbMZhfIMts1qVZMIILoyNEAAAhtSURBVKtRToGsRsFanF0ga3EHNOnyAlmNQvcFZPzQXEkKSIHGKSCQ1ahtEjc+rMmEr8OHD9d4FWWXAlKgFgUEslrU+v+8OFbkyfkkL/IqSQEp0FgFBLLG6qvSpYAUaIICAlkTRNYlpIAUaKwCAllj9VXpUkAKNEEBgawJIusSUkAKNFYBgayx+qp0KSAFmqCAQNYEkXUJKSAFGqtAJkGmuJGN7XSVLgXaTYHMgSzJA6d9CbUW+seK60TyRv1txZ0THscNTpwrnDC/3ksBKVCfApkDWaPiRuYBZPwuEH9gbJMkATOJSspTBAUyB7Jqv2XkGMmiE9VimQlkRRjOamNRFcglyPoCsyjI8CT60ksvOUJ/4egPh4Y4GSSRl6llNG5jGImH97Nnz/aO+nDYF8agjFpKeCw1x4ZscXRojg1t4OHgL/T9xeeLFy96L7F4RyXhNBCHhL/73e+8d1jLH3qKtfK0lQJFUiC3IKOTzDJLEjcyCjJcP+M5FNfHeB998cUXS7EgLS8eWYEJ/vQJ/GG+7/EhP336dB+bEbfNeDrFLTV+9EkhyCifICJ79+71XlDZjhw50ruajg60clNLvL6OHz/ex6G0mJQG1PA60bL0WQoUSYFcgazeuJFYLhbAAxjxsgREAM7p06e9RRaN24gffM7Hlz5lYBmF5xPwg6hApBAwlAswzTc9QUWw0Cwakl2fbTmQkR/L7ze/+Y0vBzfVlsLr2D5tpUARFcgVyELXOOF7Wzur1oFmZRnIAMSmTZv81NKmaBYn0aaWgMUSVhBwY190GmjnAxZSCBgiCGHJDRw40O8nGIhFMbKybVsOZBxjP3UDaNTbUngd26etFCiiAoUFGTBiysYza6xXhRBJArJoPMhw8EQBQ/nnz593Gzdu9AFDsOa4RjSFdQiPEWTjrrvuclikgNFS9Dq2X1spUDQFCgsyIADMLBFibfTo0R5oQKba1HLfvn3+MQnWzyyxzmYL+CFgmIoeO3asZIURgo2pplmGdj7bciBj+spaHVGACN1mC//kD68TlqP3UqBoChQWZKtXr/ZBX1m74tXV1eWnb8AEkLEeVmmxHxhxl3PhwoXu+vXr/m7iokWL/J1LBlAIGKaSI0aMcHiJBXZYV0OHDi3BLYzByPR17NixHnI3b970YxFwATCuyfoYEDSAbtiwwVtp3M2sNF0t2oBWe4upQGFBhqUDiIhzSKzHF154wS/2s6hvU8vw8QumdeF0EJjMmDHDn0+AVywmi5UYggwrDQDZ4xdca8+ePd56i8ZgBEbcNKBO3DgAsFiJ3Lkk2cL/U0895cFFkF1iWxKAlpsUSlKgqAoUBmRF7WC1WwoUQQGBrAi9rDZKgTZXQCBr8w5W86RAERRoC5ApbmQRhqraKAUqK5A5kCVx4xM+DMt7xY2s3ME6IgWKoEDmQIboihtZhKGnNkqB9BTIJMjSa55KkgJSoAgKCGRF6GW1UQq0uQICWZt3sJonBYqggEBWhF5WG6VAmysgkLV5B6t5UqAICghkRehltVEKtLkCmQSZ4lq2+ahT86RAygpkDmRJHoitJXpSynpVLc68ZuAKKC7hCw2//6GjxLhzcPmD9ww80g4ZMsR7jDWXPnjC4KUkBYqoQOZA1qi4ls3o3LRABtyAXOj4EX9kBDjBBxkBT44ePVpyBEnbli9f7ubMmeOPlXPQ2Iz26xpSoFUKZA5kjYpr2QyBGwky/I0RHMWsvWqwqnasGTroGlKg2QrkEmSIZKHgkk4zDTKhs0Q8wDIdMweLxKfcvn17yWU1Hl137drlp3PEvsTX/pkzZ0p9hCPENWvWOBwrci7OFfHgarDBqSJOFJkOcr55nKWASlNLziXQiAU0wTLDMaN9Zss+3GeHUcnNmSPlhnnNqqtWl1KD9EYK5FSB3IIMvQ1mtcS1BFpM0/C+yg/O8a4KrHAtTcxJPLniZ5+EZ1asoBMnTvgpG9M6PLZyLgk31HhoJbAvHmfXrl3ryzOQASBcYhPbEu+xQM/WxSqBjHLLTS2jVlb0s4GM86PH2FetLhxXkgJ5ViBXIKs3rmU0oAhgmjp1qve7TyditVnsS4MJEcQt4Wp61qxZ3poqdzwMGWfHzU01ZVy4cMFNnDjRu6VuJsji6mLt01YK5FWBXIEs6r7HPieNa0l+s5bosChMQpDxfsKECQ4f/mHq7u72wUU4zuI7i+6W2GfXsLLCaR7vLXZm9NpWBlsDD3ksRa2s6OdqFllcXewa2kqBvCogkAWPQNgXnlBtvC8HMoKCAA2Ox4EsejwcJM0GWbW6hPXSeymQRwUEsgogM6uor1NL1sw6OzsdNxcsseDODQRSM0EWVxern7ZSIK8KCGQVQEaHsr5li/k8u7V582a/+F9psZ+7ltw8sOkrNwN4cBUPtrdu3XI80Dpz5kxvzYUg4+5nGN8S4HFTgmfDACrwi04lo5/DqWWl+JiV6pLXwat6SwFTQCCrAjIAgkU2ePBg//gEj1+cOnXKtPOxJas9fhGez/oYj2YQoJcUgiwa35LjBPb99re/7QP2cpc1Cq7o5xBk0fiYlFetLr5C+iMFcqxAYUCW4z5S1aWAFIhRQCCLEUiHpYAUyL4CAln2+0g1lAJSIEaBtgCZ4lrG9LIOS4E2VyBzIEvixscehLWt4lq2+ShV86RAjAKZAxn1VVzLmF7TYSkgBXopkEmQ9aqhPkgBKSAFYhQQyGIE0mEpIAWyr4BAlv0+Ug2lgBSIUUAgixFIh6WAFMi+AgJZ9vtINZQCUiBGAYEsRiAdlgJSIPsKCGTZ7yPVUApIgRgFBLIYgXRYCkiB7CsgkGW/j1RDKSAFYhQQyGIE0mEpIAWyr4BAlv0+Ug2lgBSIUUAgixFIh6WAFMi+Av8HLin2nq1SGC4AAAAASUVORK5CYII=)"
   ]
  },
  {
   "cell_type": "markdown",
   "metadata": {
    "id": "KApi7RCoQ9Es"
   },
   "source": [
    "Membuat Label untuk kelas klasifikasi"
   ]
  },
  {
   "cell_type": "code",
   "execution_count": null,
   "metadata": {
    "id": "15kruR1tO6B0"
   },
   "outputs": [],
   "source": [
    "print (train_generator.class_indices)\n",
    "\n",
    "labels = '\\n'.join(sorted(train_generator.class_indices.keys()))\n",
    "\n",
    "with open('labels.txt', 'w') as f:\n",
    "    f.write(labels)"
   ]
  },
  {
   "cell_type": "code",
   "execution_count": null,
   "metadata": {
    "id": "M-h5PbGMO_7N"
   },
   "outputs": [],
   "source": [
    "#!cat labels.txt # Melihat isi file label berformat txt yang telah dibuat"
   ]
  },
  {
   "cell_type": "code",
   "execution_count": null,
   "metadata": {
    "id": "OUSUPrhRlvV2"
   },
   "outputs": [],
   "source": [
    "# Membuat dictionary\n",
    "dic = {'Cracked': '0', 'Non Cracked': '1'}\n",
    "Z2 = [dic.get(n, n) for n in Z]\n",
    "\n",
    "len(Z2)"
   ]
  },
  {
   "cell_type": "markdown",
   "metadata": {
    "id": "fueiCY7m1jhs"
   },
   "source": [
    "Melabelkan array yang sudah ada di list array"
   ]
  },
  {
   "cell_type": "code",
   "execution_count": null,
   "metadata": {
    "id": "5uz0IFGNckek"
   },
   "outputs": [],
   "source": [
    "# Melabelkan list Y menjadi 2 kategori\n",
    "le= LabelEncoder()\n",
    "Y= le.fit_transform(Z2)\n",
    "Y= to_categorical(Y,2)\n",
    "\n",
    "# Merubah List X menjadi Array lalu menormalisasikannya\n",
    "X_test= np.array(X)\n",
    "X_test= X_test/255"
   ]
  },
  {
   "cell_type": "code",
   "execution_count": null,
   "metadata": {},
   "outputs": [],
   "source": [
    "# from sklearn.metrics import confusion_matrix\n",
    "# import numpy as np\n",
    "\n",
    "# confusion = confusion_matrix(y_pred, y_true)\n",
    "# print(confusion)\n",
    "\n",
    "model.evaluate(validation_generator)"
   ]
  },
  {
   "cell_type": "markdown",
   "metadata": {
    "id": "6gbD_9D_Dflx"
   },
   "source": [
    "Evaluasi Model dengan Confusion Matrix, Precision, Recall & F1-Score"
   ]
  },
  {
   "cell_type": "code",
   "execution_count": null,
   "metadata": {
    "colab": {
     "base_uri": "https://localhost:8080/",
     "height": 350
    },
    "id": "zctmydFc_CjK",
    "outputId": "e0940ebe-8159-4d52-887b-6fa08fca9c81"
   },
   "outputs": [],
   "source": [
    "#Mengevaluasi model dengan confussion matrix\n",
    "\n",
    "pred= model.predict(X_test)\n",
    "y_pred= np.argmax(pred, axis=1)\n",
    "y_true= np.argmax(Y, axis=1)\n",
    "cm = confusion_matrix(y_true, y_pred)\n",
    "\n",
    "f, ax = plt.subplots(figsize=(8,5))\n",
    "sns.heatmap(cm, annot=True, fmt=\".0f\", ax=ax)\n",
    "plt.title(\"Confusion Matrix\")\n",
    "plt.xlabel(\"Predicted Label\")\n",
    "plt.ylabel(\"True Label\")\n",
    "plt.show()"
   ]
  },
  {
   "cell_type": "code",
   "execution_count": null,
   "metadata": {
    "colab": {
     "base_uri": "https://localhost:8080/",
     "height": 306
    },
    "id": "G76DaWjdMQR5",
    "outputId": "68f08c24-5182-44d4-e35b-acfefc48267a"
   },
   "outputs": [],
   "source": [
    "# Evaluasi model dengan precision, recall & f1-score\n",
    "from sklearn.metrics import classification_report\n",
    "print (classification_report(y_true, y_pred))"
   ]
  },
  {
   "cell_type": "markdown",
   "metadata": {
    "id": "rop0W0n8yMOe"
   },
   "source": [
    "# **Prediksi Model**"
   ]
  },
  {
   "cell_type": "code",
   "execution_count": null,
   "metadata": {
    "colab": {
     "base_uri": "https://localhost:8080/",
     "height": 769
    },
    "id": "_c8R9mRZXUtz",
    "outputId": "5bc24276-52cc-46c3-bf3e-197718bd8f4e"
   },
   "outputs": [],
   "source": [
    "dict_label = {0:'cracked', 1:'non_cracked'}\n",
    "def predict():\n",
    "    random_data = np.random.randint(low = 0, high = len(X)-1, size=6)\n",
    "    sample_images = X_test[random_data]\n",
    "    sample_label = Y[random_data]\n",
    "    predicted = model.predict(sample_images) # Memprediksi model\n",
    "    predicted = np.argmax(predicted, axis=1) # Mengembalikan nilai terbesar dari array prediksi\n",
    "    true_label = np.argmax(sample_label, axis=1) # Mengembalikan nilai terbesar dari array sample_label\n",
    "    fig, axs = plt.subplots(3, 3)\n",
    "    fig.set_size_inches(13,13)\n",
    "    for row in range(3):\n",
    "        for col in range(3):\n",
    "            if row == 0:\n",
    "                true = true_label[row+col]\n",
    "                pred = predicted[row+col]\n",
    "                axs[row, col].imshow(sample_images[row+col])\n",
    "            else:\n",
    "                true = true_label[row+col+1]\n",
    "                pred = predicted[row+col+1]\n",
    "                axs[row, col].imshow(sample_images[row+col+1])\n",
    "            axs[row, col].set_title('True: %s\\nPredicted: %s' % (dict_label[true], dict_label[pred]))\n",
    "            axs[row, col].axis('off')\n",
    "\n",
    "predict()"
   ]
  },
  {
   "cell_type": "code",
   "execution_count": null,
   "metadata": {
    "colab": {
     "base_uri": "https://localhost:8080/",
     "height": 358,
     "resources": {
      "http://localhost:8080/nbextensions/google.colab/files.js": {
       "data": "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",
       "headers": [
        [
         "content-type",
         "application/javascript"
        ]
       ],
       "ok": true,
       "status": 200,
       "status_text": ""
      }
     }
    },
    "collapsed": true,
    "id": "1-lzTdB2cax7",
    "jupyter": {
     "outputs_hidden": true
    },
    "outputId": "02fadb65-2a1e-4c25-8b73-08603ad55af7"
   },
   "outputs": [
    {
     "data": {
      "text/html": [
       "\n",
       "     <input type=\"file\" id=\"files-1791fe3c-23e0-4ba1-acbb-805128dcbad5\" name=\"files[]\" multiple disabled\n",
       "        style=\"border:none\" />\n",
       "     <output id=\"result-1791fe3c-23e0-4ba1-acbb-805128dcbad5\">\n",
       "      Upload widget is only available when the cell has been executed in the\n",
       "      current browser session. Please rerun this cell to enable.\n",
       "      </output>\n",
       "      <script src=\"/nbextensions/google.colab/files.js\"></script> "
      ],
      "text/plain": [
       "<IPython.core.display.HTML object>"
      ]
     },
     "metadata": {
      "tags": []
     },
     "output_type": "display_data"
    },
    {
     "name": "stdout",
     "output_type": "stream",
     "text": [
      "Saving HalfmoonMulticolor (6).jpg to HalfmoonMulticolor (6).jpg\n",
      "[4]\n",
      "Halfmoon_Multicolor\n"
     ]
    },
    {
     "data": {
      "image/png": "[encoded data removed]",
      "text/plain": [
       "<Figure size 432x288 with 1 Axes>"
      ]
     },
     "metadata": {
      "needs_background": "light",
      "tags": []
     },
     "output_type": "display_data"
    }
   ],
   "source": [
    "# Mengupload dan memprediksi gambar baru yang telah diupload\n",
    "# Apabila run pertama error maka harus dirun 2x\n",
    "uploaded = files.upload()\n",
    " \n",
    "for fn in uploaded.keys():\n",
    " \n",
    "  # memprediksi gambar\n",
    "    path = fn\n",
    "    img = image.load_img(path, target_size=(150,150))\n",
    "    imgplot = plt.imshow(img)\n",
    "    x = image.img_to_array(img)\n",
    "    x = np.expand_dims(x, axis=0)\n",
    " \n",
    "    images = np.vstack([x])\n",
    "    pred = model.predict(images, batch_size=10)\n",
    "    classes = np.argmax(pred,axis=1)\n",
    "  \n",
    "    print(classes)\n",
    "    if classes == 0:\n",
    "      print('cracked')\n",
    "#     elif classes == 1:\n",
    "#       print('rusak_berat')\n",
    "#     elif classes == 2:\n",
    "#       print('rusak_sedang')  \n",
    "    else :\n",
    "      print('non_cracked')\n",
    "  "
   ]
  }
 ],
 "metadata": {
  "accelerator": "GPU",
  "colab": {
   "collapsed_sections": [],
   "name": "Bangunanku_rusakRingan-TFLite.ipynb",
   "provenance": [],
   "toc_visible": true
  },
  "kernelspec": {
   "display_name": "Python 3.7 (tensorflow)",
   "language": "python",
   "name": "tensorflow"
  },
  "language_info": {
   "codemirror_mode": {
    "name": "ipython",
    "version": 3
   },
   "file_extension": ".py",
   "mimetype": "text/x-python",
   "name": "python",
   "nbconvert_exporter": "python",
   "pygments_lexer": "ipython3",
   "version": "3.7.10"
  }
 },
 "nbformat": 4,
 "nbformat_minor": 4
}
